{
 "cells": [
  {
   "cell_type": "code",
   "execution_count": null,
   "metadata": {},
   "outputs": [],
   "source": [
    "Erklären Sie, was Kanban ist.\n",
    "A : Ein Kanban ist wie eine Karteikarte, die alle Informationen über den aktuellen Stand Ihrer Arbeit und die erforderlichen Arbeiten am Produkt in jeder Phase des Softwareentwicklungsprozesses enthält.\n"
   ]
  },
  {
   "cell_type": "code",
   "execution_count": null,
   "metadata": {},
   "outputs": [],
   "source": [
    "F : Beschreiben Sie die Stellen, an denen „Scrum“ und „Kanban“ verwendet werden?\n",
    "A : Scrum ist die bessere Wahl, wenn Sie einen prominenteren Prozess benötigen. Wenn Sie jedoch den Ablauf des Prozesses ohne große Änderungen im gesamten Szenario verbessern möchten, sollten Sie Kanban verwenden.\n"
   ]
  },
  {
   "cell_type": "code",
   "execution_count": null,
   "metadata": {},
   "outputs": [],
   "source": [
    "F : Wie verbessert Kanban die Sichtbarkeit?\n",
    "A : Kanban verwendet digitale oder physische Tafeln, um den Arbeitsablauf des Teams zu demonstrieren. Die Aufgaben, die durch Karten dargestellt werden, bewegen sich von links nach rechts und repräsentieren den Fortschritt. So kann das Unternehmen jederzeit Fortschritt, Kapazität, Produktivität und Effizienz sehen.\n"
   ]
  },
  {
   "cell_type": "code",
   "execution_count": null,
   "metadata": {},
   "outputs": [],
   "source": [
    "F : Wie wird das WIP-Limit im Idealfall in Bezug auf die Teamgröße berechnet?\n",
    "A : Sie können mit einem WIP-Limit beginnen, das das 1- bis 1,5-fache der Anzahl der Personen beträgt, die an jeder Phase oder jeder Spalte teilnehmen.\n",
    " Wenn beispielsweise die Teamgröße in einer bestimmten Phase 4 beträgt, können zu einem bestimmten Zeitpunkt maximal 6 Elemente in Bearbeitung sein."
   ]
  },
  {
   "cell_type": "code",
   "execution_count": null,
   "metadata": {},
   "outputs": [],
   "source": [
    "F : Was ist die Vorlaufzeit in Kanban?\n",
    "A : Die Vorlaufzeit ist der Zeitraum zwischen dem Erstellen einer Aufgabe in Ihrem Workflow und ihrem endgültigen Verlassen der Kanban-Tafel.\n",
    "Kanban hilft Ihnen daher, den Arbeitsablauf zu überwachen, Blockaden zu identifizieren und Anpassungen vorzunehmen, um den Fluss zu verbessern und die Durchlaufzeit zu verkürzen.\n"
   ]
  },
  {
   "cell_type": "code",
   "execution_count": null,
   "metadata": {},
   "outputs": [],
   "source": [
    "F : Gibt es irgendwelche Nachteile des agilen Modells? Wenn ja, bitte erklären.\n",
    "A : Ja, es gibt einige Nachteile der agilen Methode, einige davon sind wie folgt:\n",
    "1- Es ist nicht einfach, den Aufwand abzuschätzen, der erforderlich ist, um eine Aufgabe zu erledigen. Bei großen Projekten wird es komplexer, da es schwierig wird, eine Prognose über den erforderlichen Gesamtaufwand zu treffen.\n",
    "2- Falls die gewünschten Anforderungen des Kunden nicht richtig verstanden werden, wird das endgültige Projekt die Kundenanforderungen nicht erfüllen. Somit führt dies zu Kundenunzufriedenheit.\n",
    "3- Nur die Führungskraft, die über beträchtliche Erfahrung im agilen Modell verfügt, ist in der Lage, wichtige Entscheidungen zu treffen. Die Teammitglieder mit weniger oder keiner Erfahrung werden nicht in den Entscheidungsprozess einbezogen und haben daher keine Chance, ihr Wissen zu erweitern.\n"
   ]
  },
  {
   "cell_type": "code",
   "execution_count": null,
   "metadata": {},
   "outputs": [],
   "source": [
    "Wie lange dauert ein Scrum-Sprint?\n",
    "Dies hängt von der Anzahl der Personen im Entwicklungsteam und der Größe des Projekts ab. Im Allgemeinen ist ein Scrum-Sprint in 1-4 Wochen abgeschlossen.\n",
    "\n"
   ]
  },
  {
   "cell_type": "code",
   "execution_count": null,
   "metadata": {},
   "outputs": [],
   "source": [
    "Was wissen Sie über die Geschwindigkeit in Scrum?\n",
    "Am Ende jedes Sprints wird die Geschwindigkeit berechnet, indem die Story Points für abgeschlossene User Stories summiert werden. \n",
    "Punkte aus nicht abgeschlossenen oder teilweise abgeschlossenen User Storys sollten bei der Berechnung der Geschwindigkeit nicht berücksichtigt werden. \n",
    "Nach der Berechnung der Geschwindigkeit am Ende des ersten Sprints kann das Team eine neue Schätzung vornehmen, wie lange das Projekt bis zur Fertigstellung dauern wird. Angenommen, die Gesamtzahl der Story-Punkte für die verbleibenden User Stories beträgt 80 und die Gesamtzahl der Story-Punkte für die abgeschlossenen User Stories im ersten Sprint beträgt 20. \n",
    "Das bedeutet, dass das Team 4 weitere Sprints benötigt, um das gesamte Projekt abzuschließen."
   ]
  },
  {
   "cell_type": "code",
   "execution_count": null,
   "metadata": {},
   "outputs": [],
   "source": [
    "Kennen Sie das agile Manifest und seine Prinzipien? Erklären Sie kurz.\n",
    "Es gibt vier Werte im Manifest. Individuen und Interaktionen, funktionierende Software, Zusammenarbeit mit Kunden und Reaktion auf Veränderungen sind die Werte. Ausgehend von diesen Werten gibt es 12 Prinzipien der Agilität. Diese Prinzipien können wie folgt zusammengefasst werden: den Kunden zufrieden stellen, sich ändernde Anforderungen willkommen heißen, gute Zusammenarbeit zwischen Geschäftsleuten und Entwicklern (Zusammenarbeit), persönliche Gespräche, motivierte Einzelpersonen und Einfachheit.\n",
    "\n"
   ]
  },
  {
   "cell_type": "code",
   "execution_count": null,
   "metadata": {},
   "outputs": [],
   "source": [
    "Wozu dienen Burn-Down-Charts?\n",
    "Ein Burndown-Diagramm zeigt den Arbeitsaufwand, der bis zum Abschluss eines Projekts verbleibt. \n",
    "Das Burn-Down-Diagramm wird also verwendet, um den Fortschritt eines Projekts zu verfolgen."
   ]
  },
  {
   "cell_type": "code",
   "execution_count": null,
   "metadata": {},
   "outputs": [],
   "source": [
    "Welche Rolle spielt der Scrum Master?\n",
    "Der Scrum Master coacht das Team, schützt das Team vor organisatorischer Ablenkung, beseitigt alle aufgetretenen Hindernisse und hilft den Teammitgliedern, sich auf das zu konzentrieren, was sie tun. Der Scrum Master stellt sicher, dass Scrum von den Teammitgliedern gut verstanden wird und ordnungsgemäß funktioniert. Der Scrum Master verbessert ständig die Umgebung des Teams. Während der Product Owner eine leitende Rolle hat, hat der Scrum Master eine ermöglichende Rolle in einem Scrum-Team.\n"
   ]
  },
  {
   "cell_type": "code",
   "execution_count": null,
   "metadata": {},
   "outputs": [],
   "source": [
    "Was sind verschiedene Zeremonien und ihre Bedeutung in Scrum?\n",
    "Im Scrum-Prozess findet regelmäßig eine Reihe von Meetings statt, die Ceremonies genannt werden. Diese Zeremonien zielen darauf ab, die Notwendigkeit von Besprechungen, die nicht im Scrum definiert sind, zu minimieren und die Regelmäßigkeit sicherzustellen. Diese Zeremonien sind:\n",
    "1. Sprint Planning Meeting,\n",
    "2. Grooming Meeting,\n",
    "3. Daily Stand Up Meeting oder Daily Scrum,\n",
    "4. Sprint Review Meeting,\n",
    "5 . Sprint-Retrospektive-Meeting. "
   ]
  },
  {
   "cell_type": "code",
   "execution_count": null,
   "metadata": {},
   "outputs": [],
   "source": [
    "Was ist Scrum of Scrums?\n",
    "Angenommen, es gibt 6 Teams, die an einem Projekt arbeiten, und jedes Team hat 6 Mitglieder. Jedes Team leitet sein eigenes spezielles Scrum-Meeting. Um sich jedoch mit verschiedenen Teams zu koordinieren und zu kommunizieren, ist es erforderlich, ein separates Scrum-Meeting zu organisieren. Das Meeting, das zur Koordination zwischen Scrum-Teams organisiert wird, wird Scrum of Scrums genannt. Es gibt einen Teamleiter aus jeder Gruppe, der als Botschafter bekannt ist und dafür verantwortlich ist, sein Team im Scrum of Scrums zu vertreten.\n"
   ]
  },
  {
   "cell_type": "code",
   "execution_count": null,
   "metadata": {},
   "outputs": [],
   "source": [
    "Erklären Sie den Begriff „Inkrement“ in Scrum.\n",
    "Das Product Increment ist die Summe aller Product Backlog Items, die während des Sprints fertiggestellt wurden. Mit anderen Worten, am Ende jedes Sprints erstellt das Entwicklungsteam eine neue Software, die in das Hauptprodukt integriert wird, und diese neue Software wird als Produktinkrement bezeichnet. Das Produktinkrement zielt darauf ab, in kleinen Beträgen in die neuen Features des Hauptprodukts zu investieren. Dies hilft, die Zeit bis zum Erhalt von Feedback zu verkürzen. Wie der Name schon sagt, steigt das Produktinkrement innerhalb der nachfolgenden Sprints weiter an. Das bedeutet, dass jedes Produktinkrement alle vorherigen Sprintinkrementwerte enthält, da es kumulativ ist.\n",
    "\n"
   ]
  },
  {
   "cell_type": "code",
   "execution_count": null,
   "metadata": {},
   "outputs": [],
   "source": [
    "Beschreiben Sie die Einsatzorte von „Scrum“ und „Kanban“?\n",
    "Scrum ist die bessere Wahl, wenn Sie einen prominenteren Prozess benötigen. Wenn Sie jedoch den Ablauf des Prozesses ohne große Änderungen im gesamten Szenario verbessern möchten, sollten Sie Kanban verwenden."
   ]
  },
  {
   "cell_type": "code",
   "execution_count": null,
   "metadata": {},
   "outputs": [],
   "source": [
    "Was ist eine User-Story?\n",
    "Es beschreibt eine Softwarefunktion aus der Sicht des Kunden und enthält die Art des Benutzers, was er will und warum er es will. Daher beantwortet es das „Wer“, „Was“ und „Warum“ in einer einfachen Sprache. Der Product Owner trägt die Verantwortung für User Stories. Abgesehen vom technischen Aspekt sollte es das Verhalten aus der Sicht des Benutzers beschreiben. Beispiele für User Stories: Als registrierter Benutzer möchte ich Artikel in den Warenkorb legen, damit ich mehrere Artikel auf einmal kaufen kann."
   ]
  },
  {
   "cell_type": "code",
   "execution_count": null,
   "metadata": {},
   "outputs": [],
   "source": [
    "Warum werden User Stories nicht einfach in Arbeitsstunden geschätzt?\n",
    "Die Schätzung von User Stories auf der Basis von Mannstunden ist möglich, aber nicht bevorzugt. Denn dann können Sie sich nicht auf das Qualitätsprodukt konzentrieren, das an den Kunden geliefert werden soll. Darüber hinaus konzentrieren Sie sich auf die Kosten und das Budget des Managements bei gleichzeitigem Einsatz von Mannstunden. Anstelle von Arbeitsstunden werden Story Points verwendet, da sie eine vollständige Vorstellung sowohl über die Komplexität der Arbeit als auch über den erforderlichen Aufwand vermitteln.\n",
    "\n"
   ]
  },
  {
   "cell_type": "code",
   "execution_count": null,
   "metadata": {},
   "outputs": [],
   "source": [
    "Erklären Sie, was Kanban ist.\n",
    "Ein Kanban ist wie eine Karteikarte, die alle Informationen über den aktuellen Stand Ihrer Arbeit und die erforderlichen Arbeiten am Produkt in jeder Phase des Softwareentwicklungsprozesses enthält. "
   ]
  },
  {
   "cell_type": "code",
   "execution_count": null,
   "metadata": {},
   "outputs": [],
   "source": [
    "Wie verbessert Kanban die Sichtbarkeit?\n",
    "Kanban verwendet digitale oder physische Tafeln, um den Arbeitsablauf des Teams zu demonstrieren. Die Aufgaben, die durch Karten dargestellt werden, bewegen sich von links nach rechts und repräsentieren den Fortschritt. So kann das Unternehmen jederzeit Fortschritt, Kapazität, Produktivität und Effizienz sehen."
   ]
  },
  {
   "cell_type": "code",
   "execution_count": null,
   "metadata": {},
   "outputs": [],
   "source": [
    "Wie wird das WIP-Limit im Idealfall in Bezug auf die Teamgröße berechnet?\n",
    "Sie können mit einem WIP-Limit vom 1- bis 1,5-fachen der Anzahl der Personen beginnen, die an jeder Phase oder jeder Spalte teilnehmen. Wenn beispielsweise die Teamgröße in einer bestimmten Phase 4 beträgt, können zu einem bestimmten Zeitpunkt maximal 6 Elemente in Bearbeitung sein."
   ]
  },
  {
   "cell_type": "code",
   "execution_count": null,
   "metadata": {},
   "outputs": [],
   "source": [
    "Was ist Durchlaufzeit in Kanban?\n",
    "Die Vorlaufzeit ist der Zeitraum zwischen dem Erstellen einer Aufgabe in Ihrem Workflow und ihrem endgültigen Verlassen der Kanban-Tafel. Kanban hilft Ihnen daher, den Arbeitsablauf zu überwachen, Blockaden zu identifizieren und Anpassungen vorzunehmen, um den Fluss zu verbessern und die Durchlaufzeit zu verkürzen."
   ]
  },
  {
   "cell_type": "code",
   "execution_count": null,
   "metadata": {},
   "outputs": [],
   "source": [
    "Gibt es Nachteile des agilen Modells? Wenn ja, bitte erklären.\n",
    "Ja, es gibt einige Nachteile der agilen Methode, einige davon sind wie folgt:\n",
    "- Es ist nicht einfach, den Aufwand abzuschätzen, der erforderlich ist, um eine Aufgabe zu erledigen. Bei großen Projekten wird es komplexer, da es schwierig wird, eine Prognose über den erforderlichen Gesamtaufwand zu treffen.\n",
    "- Falls die gewünschten Anforderungen des Kunden nicht richtig verstanden werden, wird das endgültige Projekt nicht den Kundenanforderungen entsprechen. Somit führt dies zu Kundenunzufriedenheit.\n",
    "- Nur die Führungskraft, die über beträchtliche Erfahrung im agilen Modell verfügt, ist in der Lage, wichtige Entscheidungen zu treffen. Die Teammitglieder mit weniger oder keiner Erfahrung werden nicht in den Entscheidungsprozess einbezogen und haben daher keine Chance, ihr Wissen zu erweitern."
   ]
  },
  {
   "cell_type": "code",
   "execution_count": null,
   "metadata": {},
   "outputs": [],
   "source": [
    "Was ist der Zweck einer Retrospektive?\n",
    "Wie Sprint-Review-Meetings findet auch dieses Meeting am Ende jedes Sprints statt. Die Teilnehmer dieses Meetings sind das Entwicklungsteam, der Scrum Master und der Product Owner. In diesem Meeting diskutieren alle Teilnehmer:\n",
    "- Was lief im letzten Sprint gut?\n",
    "- Was hat nicht gut funktioniert?\n",
    "- Welche Verbesserungsbereiche gibt es, um die Teamleistung zu steigern?"
   ]
  }
 ],
 "metadata": {
  "interpreter": {
   "hash": "aee8b7b246df8f9039afb4144a1f6fd8d2ca17a180786b69acc140d282b71a49"
  },
  "kernelspec": {
   "display_name": "Python 3.10.2 64-bit",
   "language": "python",
   "name": "python3"
  },
  "language_info": {
   "name": "python",
   "version": "3.10.2"
  },
  "orig_nbformat": 4
 },
 "nbformat": 4,
 "nbformat_minor": 2
}
