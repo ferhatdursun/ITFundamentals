{
 "cells": [
  {
   "cell_type": "code",
   "execution_count": null,
   "metadata": {},
   "outputs": [],
   "source": [
    "F : Was ist Jira?\n",
    "A : Jira ist ein Tool, das entwickelt wurde, um Teams beim Projektmanagement, der Fehlerverfolgung und der Problemverfolgung zu unterstützen.\n",
    "Einfach ausgedrückt ist es ein Issue-Tracker.\n",
    "Jira wird häufig von großen Unternehmen in der Softwareentwicklung und im Softwaretest eingesetzt.\n"
   ]
  },
  {
   "cell_type": "code",
   "execution_count": null,
   "metadata": {},
   "outputs": [],
   "source": [
    "F : Listen Sie die Atlassian-Produkte auf, die Mitglieder der Jira-Familie sind.\n",
    "A : Jira ist in vier verschiedene Produkte unterteilt und der Begriff Jira wird als gemeinsame Plattform bezeichnet,\n",
    "auf der all diese Produkte erstellt werden. Die vier Produkte der Jira-Familie sind: Jira Software, Jira Align, Jira Core und Jira Service Desk.\n"
   ]
  },
  {
   "cell_type": "code",
   "execution_count": null,
   "metadata": {},
   "outputs": [],
   "source": [
    "F : Welche Hosting-Optionen sind für Jira Software verfügbar?\n",
    "A : Es stehen drei Hosting-Optionen zur Verfügung: Atlassian Cloud, Server und Data Center (Amazon Web Services (AWS) und Microsoft Azure)."
   ]
  },
  {
   "cell_type": "code",
   "execution_count": null,
   "metadata": {},
   "outputs": [],
   "source": [
    "F : Ist es möglich, über ein mobiles Gerät auf die JIRA-Cloud-Site zuzugreifen?\n",
    "A : Sie können von Mobilgeräten aus auf Ihre Jira Software-Site zugreifen, indem Sie die Adresse Ihrer Site in Webbrowser eingeben."
   ]
  },
  {
   "cell_type": "code",
   "execution_count": null,
   "metadata": {},
   "outputs": [],
   "source": []
  }
 ],
 "metadata": {
  "language_info": {
   "name": "python"
  },
  "orig_nbformat": 4
 },
 "nbformat": 4,
 "nbformat_minor": 2
}
